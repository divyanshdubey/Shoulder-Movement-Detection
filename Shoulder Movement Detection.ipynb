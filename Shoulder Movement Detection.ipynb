{
 "cells": [
  {
   "cell_type": "code",
   "execution_count": 1,
   "id": "f5c340f9",
   "metadata": {},
   "outputs": [],
   "source": [
    "import cv2\n",
    "import mediapipe as mp\n",
    "import numpy as np\n",
    "mp_drawing = mp.solutions.drawing_utils\n",
    "mp_pose = mp.solutions.pose\n",
    "import math"
   ]
  },
  {
   "cell_type": "code",
   "execution_count": 2,
   "id": "22d66885",
   "metadata": {},
   "outputs": [],
   "source": [
    "def euclidean_distance(point1, point2):\n",
    "    return math.sqrt((point1[0] - point2[0])**2 + (point1[1] - point2[1])**2)\n",
    "\n",
    "\n",
    "count = 0"
   ]
  },
  {
   "cell_type": "code",
   "execution_count": 3,
   "id": "3aa5a088",
   "metadata": {},
   "outputs": [],
   "source": [
    "cap = cv2.VideoCapture(0)\n",
    "\n",
    "## Setup mediapipe instance\n",
    "with mp_pose.Pose(min_detection_confidence=0.5, min_tracking_confidence=0.5) as pose:\n",
    "    while cap.isOpened():\n",
    "        ret, frame = cap.read()\n",
    "        \n",
    "        if ret:\n",
    "            frame = cv2.resize(frame, (854,480))\n",
    "        \n",
    "        # Recolor image to RGB\n",
    "        image = cv2.cvtColor(frame, cv2.COLOR_BGR2RGB)\n",
    "        image.flags.writeable = False\n",
    "      \n",
    "        # Make detection\n",
    "        results = pose.process(image)\n",
    "    \n",
    "        # Recolor back to BGR\n",
    "        image.flags.writeable = True\n",
    "        image = cv2.cvtColor(image, cv2.COLOR_RGB2BGR)\n",
    "        \n",
    "        # Render detections\n",
    "        mp_drawing.draw_landmarks(image, results.pose_landmarks, mp_pose.POSE_CONNECTIONS,\n",
    "                                mp_drawing.DrawingSpec(color=(245,117,66), thickness=2, circle_radius=2), \n",
    "                                mp_drawing.DrawingSpec(color=(245,66,230), thickness=2, circle_radius=2) \n",
    "                                 )   \n",
    "        keypoints = []\n",
    "        for data_point in results.pose_landmarks.landmark:\n",
    "            keypoints.append({\n",
    "                                 'X': data_point.x,\n",
    "                                 'Y': data_point.y,\n",
    "                                 'Z': data_point.z,\n",
    "                                 'Visibility': data_point.visibility,\n",
    "                                 })\n",
    "        \n",
    "        if(count == 0):\n",
    "            old_point1 = (keypoints[11]['X'], keypoints[11]['Y'])\n",
    "            old_point2 = (keypoints[12]['X'], keypoints[12]['Y'])\n",
    "         \n",
    "        new_point1 = (keypoints[11]['X'], keypoints[11]['Y'])\n",
    "        new_point2 = (keypoints[12]['X'], keypoints[12]['Y'])\n",
    "        \n",
    "        \n",
    "        pd1 = euclidean_distance(new_point1, old_point1)\n",
    "        pd2 = euclidean_distance(new_point2, old_point2)\n",
    "        \n",
    "        pda = (pd1 + pd2)/2\n",
    "        \n",
    "        if(pda > 0.00115):\n",
    "            cv2.putText(image,\"His shoulders are moving\",(10,50), cv2.FONT_HERSHEY_SIMPLEX,\n",
    "                        1,(0,0,0),2,cv2.LINE_AA)\n",
    "        \n",
    "        \n",
    "        old_point1 = new_point1\n",
    "        old_point2 = new_point2\n",
    "        \n",
    "        \n",
    "        \n",
    "        cv2.imshow('Mediapipe Feed', image)\n",
    "        count += 1\n",
    "        if cv2.waitKey(10) & 0xFF == ord('q'):\n",
    "            break\n",
    "\n",
    "    cap.release()\n",
    "    cv2.destroyAllWindows()"
   ]
  }
 ],
 "metadata": {
  "kernelspec": {
   "display_name": "Python 3 (ipykernel)",
   "language": "python",
   "name": "python3"
  },
  "language_info": {
   "codemirror_mode": {
    "name": "ipython",
    "version": 3
   },
   "file_extension": ".py",
   "mimetype": "text/x-python",
   "name": "python",
   "nbconvert_exporter": "python",
   "pygments_lexer": "ipython3",
   "version": "3.8.8"
  }
 },
 "nbformat": 4,
 "nbformat_minor": 5
}
